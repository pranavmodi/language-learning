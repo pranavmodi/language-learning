{
 "cells": [
  {
   "cell_type": "code",
   "execution_count": 8,
   "metadata": {
    "collapsed": false
   },
   "outputs": [],
   "source": [
    "%matplotlib inline\n",
    "import os\n",
    "import numpy as np\n",
    "import agent\n",
    "import env\n",
    "import skimage\n",
    "import skimage.io\n",
    "import skimage.transform\n",
    "from matplotlib import pyplot as plt\n",
    "import random\n",
    "import tensorflow as tf\n",
    "import sys\n",
    "sys.path.append('tensorflow-vgg/')\n",
    "import vgg16\n",
    "\n",
    "data_dir = '/home/vagrant/ocm/language-learning/data'\n",
    "\n",
    "os.chdir('/home/vagrant/ocm/language-learning/code')"
   ]
  },
  {
   "cell_type": "code",
   "execution_count": 2,
   "metadata": {
    "collapsed": false
   },
   "outputs": [
    {
     "name": "stdout",
     "output_type": "stream",
     "text": [
      "['W0', 'W1']\n"
     ]
    }
   ],
   "source": [
    "num_words = 2\n",
    "vocab = ['W'+str(i) for i in range(num_words)]\n",
    "embed_dim = 2\n",
    "print(vocab)"
   ]
  },
  {
   "cell_type": "code",
   "execution_count": 3,
   "metadata": {
    "collapsed": false
   },
   "outputs": [
    {
     "name": "stdout",
     "output_type": "stream",
     "text": [
      "WARNING:tensorflow:From <ipython-input-3-519541e8469d>:3 in <module>.: SummaryWriter.__init__ (from tensorflow.python.training.summary_io) is deprecated and will be removed after 2016-11-30.\n",
      "Instructions for updating:\n",
      "Please switch to tf.summary.FileWriter. The interface and behavior is the same; this is just a rename.\n",
      "../logs\n"
     ]
    }
   ],
   "source": [
    "logs_path = os.path.join('..','logs')\n",
    "\n",
    "writer = tf.train.SummaryWriter(logs_path, graph=tf.get_default_graph())\n",
    "print(logs_path)"
   ]
  },
  {
   "cell_type": "code",
   "execution_count": 4,
   "metadata": {
    "collapsed": false
   },
   "outputs": [],
   "source": [
    "def load_image(path):\n",
    "    # load image\n",
    "    img = skimage.io.imread(path)\n",
    "    img = img / 255.0\n",
    "    assert (0 <= img).all() and (img <= 1.0).all()\n",
    "    # print \"Original Image Shape: \", img.shape\n",
    "    # we crop image from center\n",
    "    short_edge = min(img.shape[:2])\n",
    "    yy = int((img.shape[0] - short_edge) / 2)\n",
    "    xx = int((img.shape[1] - short_edge) / 2)\n",
    "    crop_img = img[yy: yy + short_edge, xx: xx + short_edge]\n",
    "    # resize to 224, 224\n",
    "    resized_img = skimage.transform.resize(crop_img, (224, 224))\n",
    "    return resized_img.astype(np.float32)"
   ]
  },
  {
   "cell_type": "code",
   "execution_count": 5,
   "metadata": {
    "collapsed": false
   },
   "outputs": [
    {
     "data": {
      "text/plain": [
       "'/home/vagrant/ocm/language-learning/code'"
      ]
     },
     "execution_count": 5,
     "metadata": {},
     "output_type": "execute_result"
    }
   ],
   "source": [
    "#sender.show_images(target, distractor)\n",
    "\n",
    "iterations = 1000\n",
    "\n",
    "img_dirs = ['cat', 'dog']\n",
    "\n",
    "os.getcwd()"
   ]
  },
  {
   "cell_type": "code",
   "execution_count": 6,
   "metadata": {
    "collapsed": false
   },
   "outputs": [],
   "source": [
    "def get_image_activations(sess, vgg, image, placeholder):\n",
    "    #image_pl = tf.placeholder(\"float32\", [1, 224, 224, 3])\n",
    "    batch = image.reshape((1, 224, 224, 3))\n",
    "    feed_dict = {placeholder: batch}\n",
    "    \n",
    "    with tf.name_scope(\"content_vgg\"):\n",
    "        fc8 = sess.run(vgg.fc8, feed_dict=feed_dict)\n",
    "    \n",
    "    return(fc8)\n"
   ]
  },
  {
   "cell_type": "code",
   "execution_count": null,
   "metadata": {
    "collapsed": true
   },
   "outputs": [],
   "source": [
    "def make_epsilon_greedy_policy(estimator, nA):\n",
    "    \"\"\"\n",
    "    Creates an epsilon-greedy policy based on a given Q-function approximator and epsilon.\n",
    "\n",
    "    Args:\n",
    "        estimator: An estimator that returns q values for a given state\n",
    "        nA: Number of actions in the environment.\n",
    "\n",
    "    Returns:\n",
    "        A function that takes the (sess, observation, epsilon) as an argument and returns\n",
    "        the probabilities for each action in the form of a numpy array of length nA.\n",
    "\n",
    "    \"\"\"\n",
    "    def policy_fn(sess, observation, epsilon):\n",
    "        A = np.ones(nA, dtype=float) * epsilon / nA\n",
    "        q_values = estimator.predict(sess, np.expand_dims(observation, 0))[0]\n",
    "        best_action = np.argmax(q_values)\n",
    "        A[best_action] += (1.0 - epsilon)\n",
    "        return A\n",
    "    return policy_fn"
   ]
  },
  {
   "cell_type": "code",
   "execution_count": 9,
   "metadata": {
    "collapsed": false
   },
   "outputs": [
    {
     "data": {
      "text/plain": [
       "'/home/vagrant/ocm/language-learning/code'"
      ]
     },
     "execution_count": 9,
     "metadata": {},
     "output_type": "execute_result"
    }
   ],
   "source": [
    "os.getcwd()"
   ]
  },
  {
   "cell_type": "code",
   "execution_count": 7,
   "metadata": {
    "collapsed": false
   },
   "outputs": [
    {
     "name": "stdout",
     "output_type": "stream",
     "text": [
      "build model finished: 0s\n",
      "Episode 0/10v_scores [-0.17266013  0.18402892]\n",
      "Episode 1/10v_scores [-0.15677029  0.2830919 ]\n",
      "Episode 2/10v_scores [-0.02905034  0.07097591]\n",
      "Episode 3/10v_scores [-0.04646257  0.12146975]\n",
      "Episode 4/10v_scores [-0.12514503  0.09584964]\n",
      "Episode 5/10v_scores [-0.17308156  0.182235  ]\n",
      "Episode 6/10v_scores [-0.15263139  0.28972715]\n",
      "Episode 7/10v_scores [-0.1251158   0.09599338]\n",
      "Episode 8/10v_scores [-0.15672436  0.28300911]\n",
      "Episode 9/10v_scores [-0.05863549  0.12067948]\n",
      "6 4\n"
     ]
    }
   ],
   "source": [
    "tf.reset_default_graph()\n",
    "\n",
    "sender = agent.SenderAgent(vocab)\n",
    "reciever = agent.RecieverAgent(vocab)\n",
    "game = env.Environment(data_dir, img_dirs, 2)\n",
    "\n",
    "## Run the iterations of the game\n",
    "iterations = 10\n",
    "num_classes = len(img_dirs)\n",
    "\n",
    "replay_memory_size = 50\n",
    "sender_replay_memory = []\n",
    "reciever_replay_memory = []\n",
    "init_replay_size = 20\n",
    "\n",
    "wins = 0\n",
    "losses = 0\n",
    "\n",
    "update_estimators_every = 50\n",
    "\n",
    "with tf.Session(config=tf.ConfigProto(gpu_options=(tf.GPUOptions(per_process_gpu_memory_fraction=0.7)))) as sess:\n",
    "    vgg = vgg16.Vgg16()\n",
    "    \n",
    "    image_pl = tf.placeholder(\"float32\", [1, 224, 224, 3])\n",
    "    vgg.build(image_pl)\n",
    "    sess.run(tf.global_variables_initializer())\n",
    "    \n",
    "    for n in range(init_replay_size):\n",
    "        \n",
    "    \n",
    "    for i in range(iterations):\n",
    "        \n",
    "        print(\"\\rEpisode {}/{}\".format(i, iterations), end=\"\")\n",
    "        sys.stdout.flush()\n",
    "        \n",
    "        ## Update the sender and reciever parameters periodically\n",
    "        if i % update_estimators_every == 0:\n",
    "            \n",
    "\n",
    "        im1_class, im2_class = np.random.choice(list(range(num_classes)), 2, replace=False)\n",
    "        im1_dir, im2_dir = img_dirs[im1_class], img_dirs[im2_class]\n",
    "        im1_path, im2_path = os.path.join(data_dir, 'images', im1_dir), os.path.join(data_dir, 'images', im2_dir)\n",
    "        #print(im1_path, im2_path)\n",
    "\n",
    "            # select random image in dirs\n",
    "        im1_files, im2_files = os.listdir(im1_path), os.listdir(im2_path)\n",
    "        im1_files = [i for i in im1_files if i.endswith('.jpg')]\n",
    "        im2_files = [i for i in im2_files if i.endswith('.jpg')]\n",
    "\n",
    "        im1 = np.random.choice(len(im1_files), 1)[0]\n",
    "        im2 = np.random.choice(len(im2_files), 1)[0]\n",
    "\n",
    "        target_file = os.path.join(im1_path, im1_files[im1])\n",
    "        distractor_file = os.path.join(im2_path, im2_files[im2])\n",
    "\n",
    "        # Load selected image\n",
    "        target_image = load_image(target_file)\n",
    "        distractor_image = load_image(distractor_file)\n",
    "        \n",
    "        ## Get images from environment\n",
    "        \n",
    "        target_image, distractor_image = game.get_images()\n",
    "        target_acts = get_image_activations(sess, vgg, target_image, image_pl)\n",
    "        distractor_acts = get_image_activations(sess, vgg, distractor_image, image_pl)\n",
    "        \n",
    "        ## for Sender - take action in reinforcement learning terms\n",
    "        comm_word = sender.show_images(sess, target_acts, distractor_acts)\n",
    "\n",
    "        reordering = np.array([0,1])\n",
    "        random.shuffle(reordering)\n",
    "        target_ind = np.where(reordering==0)[0]\n",
    "\n",
    "        img_array = [target_acts, distractor_acts]\n",
    "        i1, i2 = [img_array[reordering[i]] for i, img in enumerate(img_array)]\n",
    "        \n",
    "        ## For Reciever - Take action\n",
    "        selection = reciever.show_images(sess, comm_word, i1, i2) \n",
    "\n",
    "        if target_ind == selection:\n",
    "            wins += 1\n",
    "        else:\n",
    "            losses += 1\n",
    "\n",
    "    print(wins, losses)    "
   ]
  },
  {
   "cell_type": "code",
   "execution_count": null,
   "metadata": {
    "collapsed": false
   },
   "outputs": [],
   "source": [
    "\n"
   ]
  }
 ],
 "metadata": {
  "anaconda-cloud": {},
  "kernelspec": {
   "display_name": "Python [conda env:py35]",
   "language": "python",
   "name": "conda-env-py35-py"
  },
  "language_info": {
   "codemirror_mode": {
    "name": "ipython",
    "version": 3
   },
   "file_extension": ".py",
   "mimetype": "text/x-python",
   "name": "python",
   "nbconvert_exporter": "python",
   "pygments_lexer": "ipython3",
   "version": "3.5.2"
  }
 },
 "nbformat": 4,
 "nbformat_minor": 1
}
