{
 "cells": [
  {
   "cell_type": "code",
   "execution_count": 1,
   "metadata": {
    "collapsed": false
   },
   "outputs": [],
   "source": [
    "%matplotlib inline\n",
    "import os\n",
    "import numpy as np\n",
    "import agent\n",
    "import env\n",
    "import skimage\n",
    "import skimage.io\n",
    "import skimage.transform\n",
    "from matplotlib import pyplot as plt\n",
    "import random\n",
    "import tensorflow as tf\n",
    "import sys\n",
    "sys.path.append('tensorflow-vgg/')\n",
    "import vgg16\n",
    "from collections import deque, namedtuple\n",
    "\n",
    "data_dir = '/home/vagrant/ocm/language-learning/data'\n",
    "\n",
    "os.chdir('/home/vagrant/ocm/language-learning/code')"
   ]
  },
  {
   "cell_type": "code",
   "execution_count": 2,
   "metadata": {
    "collapsed": false
   },
   "outputs": [],
   "source": [
    "def load_image(path):\n",
    "    # load image\n",
    "    img = skimage.io.imread(path)\n",
    "    img = img / 255.0\n",
    "    assert (0 <= img).all() and (img <= 1.0).all()\n",
    "    # print \"Original Image Shape: \", img.shape\n",
    "    # we crop image from center\n",
    "    short_edge = min(img.shape[:2])\n",
    "    yy = int((img.shape[0] - short_edge) / 2)\n",
    "    xx = int((img.shape[1] - short_edge) / 2)\n",
    "    crop_img = img[yy: yy + short_edge, xx: xx + short_edge]\n",
    "    # resize to 224, 224\n",
    "    resized_img = skimage.transform.resize(crop_img, (224, 224))\n",
    "    return resized_img.astype(np.float32)"
   ]
  },
  {
   "cell_type": "code",
   "execution_count": 3,
   "metadata": {
    "collapsed": false
   },
   "outputs": [
    {
     "data": {
      "text/plain": [
       "'/home/vagrant/ocm/language-learning/code'"
      ]
     },
     "execution_count": 3,
     "metadata": {},
     "output_type": "execute_result"
    }
   ],
   "source": [
    "#sender.show_images(target, distractor)\n",
    "\n",
    "iterations = 1000\n",
    "\n",
    "img_dirs = ['cat', 'dog']\n",
    "\n",
    "os.getcwd()"
   ]
  },
  {
   "cell_type": "code",
   "execution_count": 4,
   "metadata": {
    "collapsed": false
   },
   "outputs": [],
   "source": [
    "def get_image_activations(sess, vgg, image, placeholder):\n",
    "    #image_pl = tf.placeholder(\"float32\", [1, 224, 224, 3])\n",
    "    batch = image.reshape((1, 224, 224, 3))\n",
    "    feed_dict = {placeholder: batch}\n",
    "    \n",
    "    with tf.name_scope(\"content_vgg\"):\n",
    "        fc8 = sess.run(vgg.fc8, feed_dict=feed_dict)\n",
    "    \n",
    "    return(fc8)\n"
   ]
  },
  {
   "cell_type": "code",
   "execution_count": 5,
   "metadata": {
    "collapsed": true
   },
   "outputs": [],
   "source": [
    "def make_epsilon_greedy_policy(estimator, nA):\n",
    "    \"\"\"\n",
    "    Creates an epsilon-greedy policy based on a given Q-function approximator and epsilon.\n",
    "\n",
    "    Args:\n",
    "        estimator: An estimator that returns q values for a given state\n",
    "        nA: Number of actions in the environment.\n",
    "\n",
    "    Returns:\n",
    "        A function that takes the (sess, observation, epsilon) as an argument and returns\n",
    "        the probabilities for each action in the form of a numpy array of length nA.\n",
    "\n",
    "    \"\"\"\n",
    "    def policy_fn(sess, observation, epsilon):\n",
    "        A = np.ones(nA, dtype=float) * epsilon / nA\n",
    "        q_values = estimator.predict(sess, np.expand_dims(observation, 0))[0]\n",
    "        best_action = np.argmax(q_values)\n",
    "        A[best_action] += (1.0 - epsilon)\n",
    "        return A\n",
    "    return policy_fn"
   ]
  },
  {
   "cell_type": "code",
   "execution_count": 6,
   "metadata": {
    "collapsed": false
   },
   "outputs": [],
   "source": [
    "def shuffle_image_activations(im_acts):\n",
    "    reordering = np.array(range(len(im_acts)))    \n",
    "    random.shuffle(reordering)\n",
    "    target_ind = np.argmin(reordering)\n",
    "    shuffled = im_acts[reordering]\n",
    "    return (shuffled, target_ind)    "
   ]
  },
  {
   "cell_type": "code",
   "execution_count": null,
   "metadata": {
    "collapsed": false
   },
   "outputs": [
    {
     "name": "stdout",
     "output_type": "stream",
     "text": [
      "['W0', 'W1']\n"
     ]
    }
   ],
   "source": [
    "num_words = 2\n",
    "vocab = ['W'+str(i) for i in range(num_words)]\n",
    "\n",
    "#vocab = ['Catword', 'Dogword']\n",
    "embed_dim = 2\n",
    "print(vocab)"
   ]
  },
  {
   "cell_type": "code",
   "execution_count": null,
   "metadata": {
    "collapsed": false
   },
   "outputs": [
    {
     "name": "stdout",
     "output_type": "stream",
     "text": [
      "now building the learning graph\n"
     ]
    },
    {
     "name": "stderr",
     "output_type": "stream",
     "text": [
      "/home/vagrant/anaconda2/envs/py35/lib/python3.5/site-packages/tensorflow/python/ops/gradients_impl.py:91: UserWarning: Converting sparse IndexedSlices to a dense Tensor of unknown shape. This may consume a large amount of memory.\n",
      "  \"Converting sparse IndexedSlices to a dense Tensor of unknown shape. \"\n"
     ]
    },
    {
     "name": "stdout",
     "output_type": "stream",
     "text": [
      "created the scalar for tensorboard\n",
      "finished building the learning graph\n",
      "/home/vagrant/ocm/language-learning/code/tensorflow-vgg/vgg16.npy\n",
      "npy file loaded\n",
      "build model started\n",
      "build model finished: 0s\n",
      "Episode 0/20000last 10 interations performance  0\n",
      "word probs [ 0.50037712  0.49962294]\n",
      "image probs [ 0.49999979  0.50000024]\n",
      "updating the agent weights\n",
      "cat -1.0\n",
      "Episode 1/20000word probs [ 0.61916393  0.3808361 ]\n",
      "image probs [ 0.5018236   0.49817634]\n",
      "updating the agent weights\n",
      "cat 1.0\n",
      "Episode 2/20000word probs [ 0.56557155  0.43442848]\n",
      "image probs [ 0.4999477   0.50005233]\n",
      "updating the agent weights\n",
      "cat -1.0\n",
      "Episode 3/20000word probs [ 0.48799241  0.51200759]\n",
      "image probs [ 0.48742473  0.51257533]\n",
      "updating the agent weights\n",
      "cat -1.0\n",
      "Episode 4/20000word probs [ 0.39794743  0.60205257]\n",
      "image probs [ 0.51961762  0.48038241]\n",
      "updating the agent weights\n",
      "cat -1.0\n",
      "Episode 5/20000word probs [ 0.30668339  0.69331658]\n",
      "image probs [ 0.4966858  0.5033142]\n",
      "updating the agent weights\n",
      "cat -1.0\n",
      "Episode 6/20000word probs [ 0.25291315  0.74708688]\n",
      "image probs [ 0.56437558  0.43562436]\n",
      "updating the agent weights\n",
      "cat 1.0\n",
      "Episode 7/20000word probs [ 0.2409244   0.75907558]\n",
      "image probs [ 0.54007554  0.4599244 ]\n",
      "updating the agent weights\n",
      "cat 1.0\n",
      "Episode 8/20000word probs [ 0.22363344  0.77636653]\n",
      "image probs [ 0.46528408  0.53471595]\n",
      "updating the agent weights\n",
      "cat 1.0\n",
      "Episode 9/20000word probs [ 0.20315138  0.79684865]\n",
      "image probs [ 0.60419482  0.39580521]\n",
      "updating the agent weights\n",
      "cat 1.0\n",
      "Episode 10/20000last 10 interations performance  0.0\n",
      "word probs [ 0.18129033  0.81870967]\n",
      "image probs [ 0.65374893  0.34625104]\n",
      "updating the agent weights\n",
      "dog 1.0\n",
      "Episode 11/20000word probs [ 0.15948687  0.84051317]\n",
      "image probs [ 0.54993176  0.45006824]\n",
      "updating the agent weights\n",
      "cat -1.0\n",
      "Episode 12/20000word probs [ 0.14497153  0.85502845]\n",
      "image probs [ 0.30123845  0.69876158]\n",
      "updating the agent weights\n",
      "dog -1.0\n",
      "Episode 13/20000word probs [ 0.13558048  0.86441952]\n",
      "image probs [ 0.63086331  0.36913672]\n",
      "updating the agent weights\n",
      "cat 1.0\n",
      "Episode 14/20000word probs [ 0.12519638  0.8748036 ]\n",
      "image probs [ 0.71745706  0.28254303]\n",
      "updating the agent weights\n",
      "cat 1.0\n",
      "Episode 15/20000word probs [ 0.11438929  0.8856107 ]\n",
      "image probs [ 0.74882603  0.251174  ]\n",
      "updating the agent weights\n",
      "dog -1.0\n",
      "Episode 16/20000word probs [ 0.10706893  0.8929311 ]\n",
      "image probs [ 0.76081389  0.23918602]\n",
      "updating the agent weights\n",
      "dog -1.0\n",
      "Episode 17/20000word probs [ 0.10237427  0.89762574]\n",
      "image probs [ 0.28667942  0.71332067]\n",
      "updating the agent weights\n",
      "dog 1.0\n",
      "Episode 18/20000word probs [ 0.09682108  0.90317899]\n",
      "image probs [ 0.69270498  0.30729502]\n",
      "updating the agent weights\n",
      "cat 1.0\n",
      "Episode 19/20000word probs [ 0.09070843  0.90929163]\n",
      "image probs [ 0.63914675  0.36085328]\n",
      "updating the agent weights\n",
      "cat 1.0\n",
      "Episode 20/20000last 10 interations performance  2.0\n",
      "word probs [ 0.08430432  0.91569573]\n",
      "image probs [ 0.36028916  0.63971084]\n",
      "updating the agent weights\n",
      "cat 1.0\n",
      "Episode 21/20000word probs [ 0.0778352   0.92216486]\n",
      "image probs [ 0.3632327   0.63676727]\n",
      "updating the agent weights\n",
      "dog 1.0\n",
      "Episode 22/20000word probs [ 0.07148162  0.92851835]\n",
      "image probs [ 0.21435727  0.78564274]\n",
      "updating the agent weights\n",
      "cat -1.0\n",
      "Episode 23/20000word probs [ 0.06687413  0.93312585]\n",
      "image probs [ 0.79858363  0.20141646]\n",
      "updating the agent weights\n",
      "dog 1.0\n",
      "Episode 24/20000word probs [ 0.06225135  0.93774867]\n",
      "image probs [ 0.64763099  0.35236904]\n",
      "updating the agent weights\n",
      "dog 1.0\n",
      "Episode 25/20000word probs [ 0.057716    0.94228399]\n",
      "image probs [ 0.70860159  0.29139838]\n",
      "updating the agent weights\n",
      "dog -1.0\n",
      "Episode 26/20000word probs [ 0.05437632  0.9456237 ]\n",
      "image probs [ 0.26805508  0.73194486]\n",
      "updating the agent weights\n",
      "dog -1.0\n",
      "Episode 27/20000word probs [ 0.05196745  0.94803256]\n",
      "image probs [ 0.63647604  0.36352393]\n",
      "updating the agent weights\n",
      "cat 1.0\n",
      "Episode 28/20000word probs [ 0.04942254  0.95057744]\n",
      "image probs [ 0.64613599  0.35386398]\n",
      "updating the agent weights\n",
      "dog -1.0\n",
      "Episode 29/20000"
     ]
    }
   ],
   "source": [
    "tf.reset_default_graph()\n",
    "\n",
    "agents = agent.Agents(vocab, image_embedding_dim = 10, embedding_dim = 10, temperature=10)\n",
    "game = env.Environment(data_dir, img_dirs, 2)\n",
    "\n",
    "logs_path = os.path.join('..','logs/run2')\n",
    "writer = tf.summary.FileWriter(logs_path, graph=tf.get_default_graph())\n",
    "\n",
    "## Run the iterations of the game\n",
    "iterations = 20000\n",
    "mini_batch_size = 1\n",
    "\n",
    "num_classes = len(img_dirs)\n",
    "\n",
    "wins = 0\n",
    "losses = 0\n",
    "\n",
    "update_estimators_every = 50\n",
    "\n",
    "with tf.Session(config=tf.ConfigProto(gpu_options=(tf.GPUOptions(per_process_gpu_memory_fraction=0.7)))) as sess:\n",
    "    vgg = vgg16.Vgg16()\n",
    "    \n",
    "    image_pl = tf.placeholder(\"float32\", [1, 224, 224, 3])\n",
    "    vgg.build(image_pl)\n",
    "    sess.run(tf.global_variables_initializer())\n",
    "        \n",
    "    batch = []\n",
    "    Game = namedtuple(\"Game\", [\"im_acts\", \"target_acts\", \"distractor_acts\", \"target\", \"word\", \"selection\", \"reward\"])\n",
    "    tot_reward = 0\n",
    "    for i in range(iterations):\n",
    "        \n",
    "        print(\"\\rEpisode {}/{}\".format(i, iterations), end=\"\")\n",
    "        sys.stdout.flush()\n",
    "        \n",
    "        if i % 10 == 0:\n",
    "            print('last 10 interations performance ', tot_reward)\n",
    "            tot_reward = 0\n",
    "                    \n",
    "        target_image, distractor_image = game.get_images()\n",
    "        target_class = game.target_class\n",
    "        target_acts = get_image_activations(sess, vgg, target_image, image_pl)\n",
    "        distractor_acts = get_image_activations(sess, vgg, distractor_image, image_pl)\n",
    "        \n",
    "        reordering = np.array([0,1])\n",
    "        random.shuffle(reordering)\n",
    "        target = np.where(reordering==0)[0]\n",
    "        \n",
    "        img_array = [target_acts, distractor_acts] \n",
    "        i1, i2 = [img_array[reordering[i]] for i, img in enumerate(img_array)]\n",
    "\n",
    "        shuffled_acts = np.concatenate([i1, i2], axis=1)\n",
    "        \n",
    "        ## for Sender - take action in reinforcement learning terms\n",
    "        \n",
    "        reward, word, selection = agents.show_images(sess, shuffled_acts, target_acts, distractor_acts, target, target_class)\n",
    "\n",
    "        batch.append(Game(shuffled_acts, target_acts, distractor_acts, target, word, selection, reward))\n",
    "        \n",
    "        if len(batch) > mini_batch_size:\n",
    "            batch.pop(0)\n",
    "\n",
    "        if (i+1) % mini_batch_size == 0:\n",
    "            print('updating the agent weights')\n",
    "            summary = agents.update(sess, batch)\n",
    "            writer.add_summary(summary, i)\n",
    "            \n",
    "        #reward, word_text = agents.test_sender(sess, shuffled_acts, target, target_class)\n",
    "        print(target_class, reward)\n",
    "        #reward = agents.test_receiver(sess, shuffled_acts, word, target_ind, target_class)\n",
    "        tot_reward += reward\n",
    "        selection = 0\n",
    "        #agents.call_trial(sess, img_array, target_ind)\n"
   ]
  },
  {
   "cell_type": "code",
   "execution_count": null,
   "metadata": {
    "collapsed": true
   },
   "outputs": [],
   "source": []
  }
 ],
 "metadata": {
  "anaconda-cloud": {},
  "kernelspec": {
   "display_name": "Python [conda env:py35]",
   "language": "python",
   "name": "conda-env-py35-py"
  },
  "language_info": {
   "codemirror_mode": {
    "name": "ipython",
    "version": 3
   },
   "file_extension": ".py",
   "mimetype": "text/x-python",
   "name": "python",
   "nbconvert_exporter": "python",
   "pygments_lexer": "ipython3",
   "version": "3.5.2"
  }
 },
 "nbformat": 4,
 "nbformat_minor": 1
}
