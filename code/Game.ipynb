{
 "cells": [
  {
   "cell_type": "code",
   "execution_count": 1,
   "metadata": {
    "collapsed": false
   },
   "outputs": [],
   "source": [
    "%matplotlib inline\n",
    "import os\n",
    "import numpy as np\n",
    "import agent\n",
    "import env\n",
    "import skimage\n",
    "import skimage.io\n",
    "import skimage.transform\n",
    "from matplotlib import pyplot as plt\n",
    "import random\n",
    "import tensorflow as tf\n",
    "import sys\n",
    "sys.path.append('tensorflow-vgg/')\n",
    "import vgg16\n",
    "from collections import deque, namedtuple\n",
    "\n",
    "data_dir = '/home/vagrant/ocm/language-learning/data'\n",
    "\n",
    "os.chdir('/home/vagrant/ocm/language-learning/code')"
   ]
  },
  {
   "cell_type": "code",
   "execution_count": 2,
   "metadata": {
    "collapsed": false
   },
   "outputs": [],
   "source": [
    "def load_image(path):\n",
    "    # load image\n",
    "    img = skimage.io.imread(path)\n",
    "    img = img / 255.0\n",
    "    assert (0 <= img).all() and (img <= 1.0).all()\n",
    "    # print \"Original Image Shape: \", img.shape\n",
    "    # we crop image from center\n",
    "    short_edge = min(img.shape[:2])\n",
    "    yy = int((img.shape[0] - short_edge) / 2)\n",
    "    xx = int((img.shape[1] - short_edge) / 2)\n",
    "    crop_img = img[yy: yy + short_edge, xx: xx + short_edge]\n",
    "    # resize to 224, 224\n",
    "    resized_img = skimage.transform.resize(crop_img, (224, 224))\n",
    "    return resized_img.astype(np.float32)"
   ]
  },
  {
   "cell_type": "code",
   "execution_count": 3,
   "metadata": {
    "collapsed": false
   },
   "outputs": [
    {
     "data": {
      "text/plain": [
       "'/home/vagrant/ocm/language-learning/code'"
      ]
     },
     "execution_count": 3,
     "metadata": {},
     "output_type": "execute_result"
    }
   ],
   "source": [
    "#sender.show_images(target, distractor)\n",
    "\n",
    "iterations = 1000\n",
    "\n",
    "img_dirs = ['cat', 'dog']\n",
    "\n",
    "os.getcwd()"
   ]
  },
  {
   "cell_type": "code",
   "execution_count": 4,
   "metadata": {
    "collapsed": false
   },
   "outputs": [],
   "source": [
    "def get_image_activations(sess, vgg, image, placeholder):\n",
    "    #image_pl = tf.placeholder(\"float32\", [1, 224, 224, 3])\n",
    "    batch = image.reshape((1, 224, 224, 3))\n",
    "    feed_dict = {placeholder: batch}\n",
    "    \n",
    "    with tf.name_scope(\"content_vgg\"):\n",
    "        fc8 = sess.run(vgg.fc8, feed_dict=feed_dict)\n",
    "    \n",
    "    return(fc8)\n"
   ]
  },
  {
   "cell_type": "code",
   "execution_count": 5,
   "metadata": {
    "collapsed": true
   },
   "outputs": [],
   "source": [
    "def make_epsilon_greedy_policy(estimator, nA):\n",
    "    \"\"\"\n",
    "    Creates an epsilon-greedy policy based on a given Q-function approximator and epsilon.\n",
    "\n",
    "    Args:\n",
    "        estimator: An estimator that returns q values for a given state\n",
    "        nA: Number of actions in the environment.\n",
    "\n",
    "    Returns:\n",
    "        A function that takes the (sess, observation, epsilon) as an argument and returns\n",
    "        the probabilities for each action in the form of a numpy array of length nA.\n",
    "\n",
    "    \"\"\"\n",
    "    def policy_fn(sess, observation, epsilon):\n",
    "        A = np.ones(nA, dtype=float) * epsilon / nA\n",
    "        q_values = estimator.predict(sess, np.expand_dims(observation, 0))[0]\n",
    "        best_action = np.argmax(q_values)\n",
    "        A[best_action] += (1.0 - epsilon)\n",
    "        return A\n",
    "    return policy_fn"
   ]
  },
  {
   "cell_type": "code",
   "execution_count": 6,
   "metadata": {
    "collapsed": false
   },
   "outputs": [],
   "source": [
    "def shuffle_image_activations(im_acts):\n",
    "    reordering = np.array(range(len(im_acts)))    \n",
    "    random.shuffle(reordering)\n",
    "    target_ind = np.argmin(reordering)\n",
    "    shuffled = im_acts[reordering]\n",
    "    return (shuffled, target_ind)    "
   ]
  },
  {
   "cell_type": "code",
   "execution_count": null,
   "metadata": {
    "collapsed": false
   },
   "outputs": [
    {
     "name": "stdout",
     "output_type": "stream",
     "text": [
      "['W0', 'W1']\n"
     ]
    }
   ],
   "source": [
    "num_words = 2\n",
    "vocab = ['W'+str(i) for i in range(num_words)]\n",
    "\n",
    "#vocab = ['Catword', 'Dogword']\n",
    "embed_dim = 2\n",
    "print(vocab)"
   ]
  },
  {
   "cell_type": "code",
   "execution_count": null,
   "metadata": {
    "collapsed": false
   },
   "outputs": [
    {
     "name": "stdout",
     "output_type": "stream",
     "text": [
      "now building the learning graph\n"
     ]
    },
    {
     "name": "stderr",
     "output_type": "stream",
     "text": [
      "/home/vagrant/anaconda2/envs/py35/lib/python3.5/site-packages/tensorflow/python/ops/gradients_impl.py:91: UserWarning: Converting sparse IndexedSlices to a dense Tensor of unknown shape. This may consume a large amount of memory.\n",
      "  \"Converting sparse IndexedSlices to a dense Tensor of unknown shape. \"\n"
     ]
    },
    {
     "name": "stdout",
     "output_type": "stream",
     "text": [
      "finished building the learning graph\n",
      "WARNING:tensorflow:From <ipython-input-8-a5f4157fa63e>:7 in <module>.: SummaryWriter.__init__ (from tensorflow.python.training.summary_io) is deprecated and will be removed after 2016-11-30.\n",
      "Instructions for updating:\n",
      "Please switch to tf.summary.FileWriter. The interface and behavior is the same; this is just a rename.\n",
      "../logs\n",
      "build model finished: 0s\n",
      "Episode 0/20000last 10 interations performance  0\n",
      "word probs [ 0.49484131  0.50515866]\n",
      "image probs [ 0.50016147  0.49983856]\n",
      "updating the agent weights\n",
      "dog -1.0\n",
      "Episode 1/20000word probs [ 0.37249279  0.62750721]\n",
      "image probs [ 0.499275    0.50072509]\n",
      "updating the agent weights\n",
      "dog -1.0\n",
      "Episode 2/20000word probs [ 0.41054368  0.58945632]\n",
      "image probs [ 0.51518673  0.4848133 ]\n",
      "updating the agent weights\n",
      "cat 1.0\n",
      "Episode 3/20000word probs [ 0.37598664  0.62401336]\n",
      "image probs [ 0.5029732   0.49702686]\n",
      "updating the agent weights\n",
      "cat 1.0\n",
      "Episode 4/20000word probs [ 0.32014158  0.67985839]\n",
      "image probs [ 0.50751096  0.49248904]\n",
      "updating the agent weights\n",
      "dog 1.0\n",
      "Episode 5/20000word probs [ 0.25935021  0.74064976]\n",
      "image probs [ 0.49055198  0.50944805]\n",
      "updating the agent weights\n",
      "cat -1.0\n",
      "Episode 6/20000word probs [ 0.22904921  0.77095085]\n",
      "image probs [ 0.49839762  0.50160241]\n",
      "updating the agent weights\n",
      "dog -1.0\n",
      "Episode 7/20000word probs [ 0.216259  0.783741]\n",
      "image probs [ 0.53784096  0.46215907]\n",
      "updating the agent weights\n",
      "cat 1.0\n",
      "Episode 8/20000word probs [ 0.23565015  0.76434982]\n",
      "image probs [ 0.48011369  0.51988637]\n",
      "updating the agent weights\n",
      "dog -1.0\n",
      "Episode 9/20000word probs [ 0.26234466  0.73765534]\n",
      "image probs [ 0.45261383  0.54738611]\n",
      "updating the agent weights\n",
      "dog -1.0\n",
      "Episode 10/20000last 10 interations performance  -2.0\n",
      "word probs [ 0.25963357  0.74036646]\n",
      "image probs [ 0.45875037  0.54124963]\n",
      "updating the agent weights\n",
      "cat 1.0\n",
      "Episode 11/20000word probs [ 0.24928819  0.7507118 ]\n",
      "image probs [ 0.49372077  0.50627929]\n",
      "updating the agent weights\n",
      "dog -1.0\n",
      "Episode 12/20000word probs [ 0.24770305  0.75229692]\n",
      "image probs [ 0.47605416  0.52394581]\n",
      "updating the agent weights\n",
      "dog 1.0\n",
      "Episode 13/20000word probs [ 0.23912014  0.76087987]\n",
      "image probs [ 0.53884679  0.4611533 ]\n",
      "updating the agent weights\n",
      "dog -1.0\n",
      "Episode 14/20000word probs [ 0.23835596  0.76164401]\n",
      "image probs [ 0.57172054  0.42827946]\n",
      "updating the agent weights\n",
      "cat 1.0\n",
      "Episode 15/20000word probs [ 0.23104084  0.76895916]\n",
      "image probs [ 0.58229375  0.41770619]\n",
      "updating the agent weights\n",
      "dog 1.0\n",
      "Episode 16/20000word probs [ 0.21847226  0.78152776]\n",
      "image probs [ 0.49194178  0.50805825]\n",
      "updating the agent weights\n",
      "dog -1.0\n",
      "Episode 17/20000word probs [ 0.21320118  0.78679878]\n",
      "image probs [ 0.4118897   0.58811027]\n",
      "updating the agent weights\n",
      "dog 1.0\n",
      "Episode 18/20000word probs [ 0.20317414  0.79682583]\n",
      "image probs [ 0.52598196  0.47401804]\n",
      "updating the agent weights\n",
      "cat 1.0\n",
      "Episode 19/20000word probs [ 0.21322159  0.78677845]\n",
      "image probs [ 0.60307229  0.39692768]\n",
      "updating the agent weights\n",
      "dog -1.0\n",
      "Episode 20/20000last 10 interations performance  2.0\n",
      "word probs [ 0.22775459  0.77224547]\n",
      "image probs [ 0.48683104  0.51316899]\n",
      "updating the agent weights\n",
      "cat 1.0\n",
      "Episode 21/20000word probs [ 0.25892192  0.74107808]\n",
      "image probs [ 0.71499449  0.28500548]\n",
      "updating the agent weights\n",
      "cat 1.0\n",
      "Episode 22/20000word probs [ 0.28251719  0.71748281]\n",
      "image probs [ 0.51125014  0.48874983]\n",
      "updating the agent weights\n",
      "cat -1.0\n",
      "Episode 23/20000word probs [ 0.28548476  0.71451521]\n",
      "image probs [ 0.49611026  0.5038898 ]\n",
      "updating the agent weights\n",
      "cat 1.0\n",
      "Episode 24/20000word probs [ 0.30542448  0.69457549]\n",
      "image probs [ 0.5723846   0.42761531]\n",
      "updating the agent weights\n",
      "cat -1.0\n",
      "Episode 25/20000word probs [ 0.33192503  0.66807491]\n",
      "image probs [ 0.28991243  0.71008754]\n",
      "updating the agent weights\n",
      "dog 1.0\n",
      "Episode 26/20000word probs [ 0.34789607  0.65210396]\n",
      "image probs [ 0.64868844  0.35131159]\n",
      "updating the agent weights\n",
      "cat 1.0\n",
      "Episode 27/20000word probs [ 0.35322446  0.64677554]\n",
      "image probs [ 0.47082803  0.52917194]\n",
      "updating the agent weights\n",
      "dog -1.0\n",
      "Episode 28/20000word probs [ 0.36759987  0.6324001 ]\n",
      "image probs [ 0.40810606  0.59189397]\n",
      "updating the agent weights\n",
      "cat -1.0\n",
      "Episode 29/20000word probs [ 0.39091405  0.60908592]\n",
      "image probs [ 0.598481  0.401519]\n",
      "updating the agent weights\n",
      "dog -1.0\n",
      "Episode 30/20000last 10 interations performance  0.0\n",
      "word probs [ 0.39510992  0.60489005]\n",
      "image probs [ 0.40519992  0.59480017]\n",
      "updating the agent weights\n",
      "cat 1.0\n",
      "Episode 31/20000word probs [ 0.41520894  0.58479106]\n",
      "image probs [ 0.42903575  0.57096428]\n",
      "updating the agent weights\n",
      "cat -1.0\n",
      "Episode 32/20000word probs [ 0.44496283  0.5550372 ]\n",
      "image probs [ 0.41118231  0.58881772]\n",
      "updating the agent weights\n",
      "dog 1.0\n",
      "Episode 33/20000"
     ]
    }
   ],
   "source": [
    "tf.reset_default_graph()\n",
    "\n",
    "agents = agent.Agents(vocab, image_embedding_dim = 10, embedding_dim = 10, temperature=10)\n",
    "game = env.Environment(data_dir, img_dirs, 2)\n",
    "\n",
    "logs_path = os.path.join('..','logs')\n",
    "writer = tf.train.SummaryWriter(logs_path, graph=tf.get_default_graph())\n",
    "print(logs_path)\n",
    "\n",
    "## Run the iterations of the game\n",
    "iterations = 20000\n",
    "mini_batch_size = 1\n",
    "\n",
    "num_classes = len(img_dirs)\n",
    "\n",
    "wins = 0\n",
    "losses = 0\n",
    "\n",
    "update_estimators_every = 50\n",
    "\n",
    "with tf.Session(config=tf.ConfigProto(gpu_options=(tf.GPUOptions(per_process_gpu_memory_fraction=0.7)))) as sess:\n",
    "    vgg = vgg16.Vgg16()\n",
    "    \n",
    "    image_pl = tf.placeholder(\"float32\", [1, 224, 224, 3])\n",
    "    vgg.build(image_pl)\n",
    "    sess.run(tf.global_variables_initializer())\n",
    "        \n",
    "    batch = []\n",
    "    Game = namedtuple(\"Game\", [\"im_acts\", \"target_acts\", \"distractor_acts\", \"target\", \"word\", \"selection\", \"reward\"])\n",
    "    tot_reward = 0\n",
    "    for i in range(iterations):\n",
    "        \n",
    "        print(\"\\rEpisode {}/{}\".format(i, iterations), end=\"\")\n",
    "        sys.stdout.flush()\n",
    "        \n",
    "        if i % 10 == 0:\n",
    "            print('last 10 interations performance ', tot_reward)\n",
    "            tot_reward = 0\n",
    "                    \n",
    "        target_image, distractor_image = game.get_images()\n",
    "        target_class = game.target_class\n",
    "        target_acts = get_image_activations(sess, vgg, target_image, image_pl)\n",
    "        distractor_acts = get_image_activations(sess, vgg, distractor_image, image_pl)\n",
    "        \n",
    "        reordering = np.array([0,1])\n",
    "        random.shuffle(reordering)\n",
    "        target = np.where(reordering==0)[0]\n",
    "        \n",
    "        img_array = [target_acts, distractor_acts] \n",
    "        i1, i2 = [img_array[reordering[i]] for i, img in enumerate(img_array)]\n",
    "\n",
    "        shuffled_acts = np.concatenate([i1, i2], axis=1)\n",
    "        \n",
    "        ## for Sender - take action in reinforcement learning terms\n",
    "        \n",
    "        reward, word, selection = agents.show_images(sess, shuffled_acts, target_acts, distractor_acts, target, target_class)\n",
    "\n",
    "        batch.append(Game(shuffled_acts, target_acts, distractor_acts, target, word, selection, reward))\n",
    "        \n",
    "        if len(batch) > mini_batch_size:\n",
    "            batch.pop(0)\n",
    "\n",
    "        if (i+1) % mini_batch_size == 0:\n",
    "            print('updating the agent weights')\n",
    "            agents.update(sess, batch)\n",
    "            \n",
    "        #reward, word_text = agents.test_sender(sess, shuffled_acts, target, target_class)\n",
    "        print(target_class, reward)\n",
    "        #reward = agents.test_receiver(sess, shuffled_acts, word, target_ind, target_class)\n",
    "        tot_reward += reward\n",
    "        selection = 0\n",
    "        #agents.call_trial(sess, img_array, target_ind)\n"
   ]
  },
  {
   "cell_type": "code",
   "execution_count": null,
   "metadata": {
    "collapsed": true
   },
   "outputs": [],
   "source": []
  }
 ],
 "metadata": {
  "anaconda-cloud": {},
  "kernelspec": {
   "display_name": "Python [conda env:py35]",
   "language": "python",
   "name": "conda-env-py35-py"
  },
  "language_info": {
   "codemirror_mode": {
    "name": "ipython",
    "version": 3
   },
   "file_extension": ".py",
   "mimetype": "text/x-python",
   "name": "python",
   "nbconvert_exporter": "python",
   "pygments_lexer": "ipython3",
   "version": "3.5.2"
  }
 },
 "nbformat": 4,
 "nbformat_minor": 1
}
