{
 "cells": [
  {
   "cell_type": "code",
   "execution_count": 1,
   "metadata": {
    "collapsed": false
   },
   "outputs": [],
   "source": [
    "%matplotlib inline\n",
    "import os\n",
    "import numpy as np\n",
    "import agent\n",
    "import env\n",
    "import skimage\n",
    "import skimage.io\n",
    "import skimage.transform\n",
    "from matplotlib import pyplot as plt\n",
    "import random\n",
    "import tensorflow as tf\n",
    "import sys\n",
    "sys.path.append('tensorflow-vgg/')\n",
    "import vgg16\n",
    "from collections import deque, namedtuple\n",
    "\n",
    "data_dir = '/home/vagrant/ocm/language-learning/data'\n",
    "\n",
    "os.chdir('/home/vagrant/ocm/language-learning/code')"
   ]
  },
  {
   "cell_type": "code",
   "execution_count": 2,
   "metadata": {
    "collapsed": false
   },
   "outputs": [],
   "source": [
    "def load_image(path):\n",
    "    # load image\n",
    "    img = skimage.io.imread(path)\n",
    "    img = img / 255.0\n",
    "    assert (0 <= img).all() and (img <= 1.0).all()\n",
    "    # print \"Original Image Shape: \", img.shape\n",
    "    # we crop image from center\n",
    "    short_edge = min(img.shape[:2])\n",
    "    yy = int((img.shape[0] - short_edge) / 2)\n",
    "    xx = int((img.shape[1] - short_edge) / 2)\n",
    "    crop_img = img[yy: yy + short_edge, xx: xx + short_edge]\n",
    "    # resize to 224, 224\n",
    "    resized_img = skimage.transform.resize(crop_img, (224, 224))\n",
    "    return resized_img.astype(np.float32)"
   ]
  },
  {
   "cell_type": "code",
   "execution_count": 3,
   "metadata": {
    "collapsed": false
   },
   "outputs": [
    {
     "data": {
      "text/plain": [
       "'/home/vagrant/ocm/language-learning/code'"
      ]
     },
     "execution_count": 3,
     "metadata": {},
     "output_type": "execute_result"
    }
   ],
   "source": [
    "#sender.show_images(target, distractor)\n",
    "\n",
    "iterations = 1000\n",
    "\n",
    "img_dirs = ['cat', 'dog']\n",
    "\n",
    "os.getcwd()"
   ]
  },
  {
   "cell_type": "code",
   "execution_count": 4,
   "metadata": {
    "collapsed": false
   },
   "outputs": [],
   "source": [
    "def get_image_activations(sess, vgg, image, placeholder):\n",
    "    #image_pl = tf.placeholder(\"float32\", [1, 224, 224, 3])\n",
    "    batch = image.reshape((1, 224, 224, 3))\n",
    "    feed_dict = {placeholder: batch}\n",
    "    \n",
    "    with tf.name_scope(\"content_vgg\"):\n",
    "        fc8 = sess.run(vgg.fc8, feed_dict=feed_dict)\n",
    "    \n",
    "    return(fc8)\n"
   ]
  },
  {
   "cell_type": "code",
   "execution_count": 5,
   "metadata": {
    "collapsed": true
   },
   "outputs": [],
   "source": [
    "def make_epsilon_greedy_policy(estimator, nA):\n",
    "    \"\"\"\n",
    "    Creates an epsilon-greedy policy based on a given Q-function approximator and epsilon.\n",
    "\n",
    "    Args:\n",
    "        estimator: An estimator that returns q values for a given state\n",
    "        nA: Number of actions in the environment.\n",
    "\n",
    "    Returns:\n",
    "        A function that takes the (sess, observation, epsilon) as an argument and returns\n",
    "        the probabilities for each action in the form of a numpy array of length nA.\n",
    "\n",
    "    \"\"\"\n",
    "    def policy_fn(sess, observation, epsilon):\n",
    "        A = np.ones(nA, dtype=float) * epsilon / nA\n",
    "        q_values = estimator.predict(sess, np.expand_dims(observation, 0))[0]\n",
    "        best_action = np.argmax(q_values)\n",
    "        A[best_action] += (1.0 - epsilon)\n",
    "        return A\n",
    "    return policy_fn"
   ]
  },
  {
   "cell_type": "code",
   "execution_count": 6,
   "metadata": {
    "collapsed": false
   },
   "outputs": [],
   "source": [
    "def shuffle_image_activations(im_acts):\n",
    "    reordering = np.array(range(len(im_acts)))    \n",
    "    random.shuffle(reordering)\n",
    "    target_ind = np.argmin(reordering)\n",
    "    shuffled = im_acts[reordering]\n",
    "    return (shuffled, target_ind)    "
   ]
  },
  {
   "cell_type": "code",
   "execution_count": 7,
   "metadata": {
    "collapsed": false
   },
   "outputs": [
    {
     "name": "stdout",
     "output_type": "stream",
     "text": [
      "['W0', 'W1']\n"
     ]
    }
   ],
   "source": [
    "num_words = 2\n",
    "vocab = ['W'+str(i) for i in range(num_words)]\n",
    "\n",
    "#vocab = ['Catword', 'Dogword']\n",
    "embed_dim = 2\n",
    "print(vocab)"
   ]
  },
  {
   "cell_type": "code",
   "execution_count": null,
   "metadata": {
    "collapsed": false
   },
   "outputs": [
    {
     "name": "stdout",
     "output_type": "stream",
     "text": [
      "/home/vagrant/ocm/language-learning/code\n",
      "../logs/5\n"
     ]
    }
   ],
   "source": [
    "print(os.getcwd())\n",
    "log_path = os.path.join('..', 'logs')\n",
    "log_dirs = os.listdir(log_path)\n",
    "log_path = os.path.join(log_path, str(len(log_dirs)+1))\n",
    "os.mkdir(log_path)\n",
    "print(log_path)"
   ]
  },
  {
   "cell_type": "code",
   "execution_count": null,
   "metadata": {
    "collapsed": false
   },
   "outputs": [
    {
     "name": "stdout",
     "output_type": "stream",
     "text": [
      "now building the learning graph\n"
     ]
    },
    {
     "name": "stderr",
     "output_type": "stream",
     "text": [
      "/home/vagrant/anaconda2/envs/py35/lib/python3.5/site-packages/tensorflow/python/ops/gradients_impl.py:91: UserWarning: Converting sparse IndexedSlices to a dense Tensor of unknown shape. This may consume a large amount of memory.\n",
      "  \"Converting sparse IndexedSlices to a dense Tensor of unknown shape. \"\n"
     ]
    },
    {
     "name": "stdout",
     "output_type": "stream",
     "text": [
      "INFO:tensorflow:Summary name sender/ordered_embed/sender_t:0/gradient is illegal; using sender/ordered_embed/sender_t_0/gradient instead.\n",
      "INFO:tensorflow:Summary name sender/ordered_embed/t_bias:0/gradient is illegal; using sender/ordered_embed/t_bias_0/gradient instead.\n",
      "INFO:tensorflow:Summary name sender/ordered_embed/sender_d:0/gradient is illegal; using sender/ordered_embed/sender_d_0/gradient instead.\n",
      "INFO:tensorflow:Summary name sender/ordered_embed/d_bias:0/gradient is illegal; using sender/ordered_embed/d_bias_0/gradient instead.\n",
      "INFO:tensorflow:Summary name sender/word_probs/gsi_embed:0/gradient is illegal; using sender/word_probs/gsi_embed_0/gradient instead.\n",
      "INFO:tensorflow:Summary name receiver/image_embed/Variable:0/gradient is illegal; using receiver/image_embed/Variable_0/gradient instead.\n",
      "INFO:tensorflow:Summary name receiver/image_embed/receiver_bias:0/gradient is illegal; using receiver/image_embed/receiver_bias_0/gradient instead.\n",
      "INFO:tensorflow:Summary name receiver/image_select/Variable:0/gradient is illegal; using receiver/image_select/Variable_0/gradient instead.\n",
      "finished building the learning graph\n",
      "/home/vagrant/ocm/language-learning/code/tensorflow-vgg/vgg16.npy\n",
      "npy file loaded\n",
      "build model started\n",
      "build model finished: 0s\n",
      "Episode 0/20000last 10 interations performance  0\n",
      "word probs [ 0.50165492  0.49834511]\n",
      "image probs [ 0.49999866  0.50000131]\n",
      "cat 1.0\n",
      "Episode 1/20000word probs [ 0.50210243  0.49789757]\n",
      "image probs [ 0.50000095  0.49999908]\n",
      "updating the agent weights\n",
      "cat -1.0\n",
      "Episode 2/20000word probs [ 0.44181997  0.55818003]\n",
      "image probs [ 0.49999964  0.50000042]\n",
      "dog 1.0\n",
      "Episode 3/20000word probs [ 0.44009179  0.55990815]\n",
      "image probs [ 0.49999937  0.5000006 ]\n",
      "updating the agent weights\n",
      "dog -1.0\n",
      "Episode 4/20000word probs [ 0.37676212  0.62323785]\n",
      "image probs [ 0.50000036  0.49999964]\n",
      "dog -1.0\n",
      "Episode 5/20000word probs [ 0.45013535  0.54986471]\n",
      "image probs [ 0.50000155  0.49999848]\n",
      "updating the agent weights\n",
      "cat -1.0\n",
      "Episode 6/20000word probs [ 0.35143024  0.64856976]\n",
      "image probs [ 0.49912554  0.50087452]\n",
      "dog -1.0\n",
      "Episode 7/20000word probs [ 0.36851528  0.63148469]\n",
      "image probs [ 0.49922481  0.50077516]\n",
      "updating the agent weights\n",
      "dog 1.0\n",
      "Episode 8/20000word probs [ 0.50419909  0.49580094]\n",
      "image probs [ 0.4960621   0.50393784]\n",
      "cat -1.0\n",
      "Episode 9/20000word probs [ 0.41635692  0.58364302]\n",
      "image probs [ 0.49963561  0.5003643 ]\n",
      "updating the agent weights\n",
      "cat 1.0\n",
      "Episode 10/20000last 10 interations performance  -2.0\n",
      "word probs [ 0.3605876  0.6394124]\n",
      "image probs [ 0.49417612  0.50582385]\n",
      "dog -1.0\n",
      "Episode 11/20000word probs [ 0.51226985  0.48773018]\n",
      "image probs [ 0.50452131  0.49547866]\n",
      "updating the agent weights\n",
      "cat 1.0\n",
      "Episode 12/20000word probs [ 0.54498786  0.45501214]\n",
      "image probs [ 0.49927169  0.50072837]\n",
      "cat 1.0\n",
      "Episode 13/20000word probs [ 0.51980269  0.48019734]\n",
      "image probs [ 0.50041896  0.49958107]\n",
      "updating the agent weights\n",
      "cat 1.0\n",
      "Episode 14/20000word probs [ 0.39850491  0.60149509]\n",
      "image probs [ 0.50915587  0.4908441 ]\n",
      "dog -1.0\n",
      "Episode 15/20000word probs [ 0.39850491  0.60149509]\n",
      "image probs [ 0.49940675  0.50059325]\n",
      "updating the agent weights\n",
      "dog 1.0\n",
      "Episode 16/20000word probs [ 0.43110269  0.56889737]\n",
      "image probs [ 0.4601613   0.53983867]\n",
      "dog 1.0\n",
      "Episode 17/20000word probs [ 0.4948234   0.50517654]\n",
      "image probs [ 0.49669105  0.50330889]\n",
      "updating the agent weights\n",
      "cat 1.0\n",
      "Episode 18/20000word probs [ 0.50562322  0.49437678]\n",
      "image probs [ 0.50322169  0.49677834]\n",
      "cat 1.0\n",
      "Episode 19/20000word probs [ 0.40631178  0.59368825]\n",
      "image probs [ 0.49799904  0.50200099]\n",
      "updating the agent weights\n",
      "cat -1.0\n",
      "Episode 20/20000last 10 interations performance  4.0\n",
      "word probs [ 0.41311872  0.58688122]\n",
      "image probs [ 0.4935444  0.5064556]\n",
      "dog 1.0\n",
      "Episode 21/20000"
     ]
    }
   ],
   "source": [
    "tf.reset_default_graph()\n",
    "\n",
    "agents = agent.Agents(vocab, image_embedding_dim = 10, embedding_dim = 10, temperature=10)\n",
    "game = env.Environment(data_dir, img_dirs, 2)\n",
    "\n",
    "#logs_path = os.path.join('..','logs/run17')\n",
    "writer = tf.summary.FileWriter(log_path, graph=tf.get_default_graph())\n",
    "\n",
    "## Run the iterations of the game\n",
    "iterations = 20000\n",
    "mini_batch_size = 2\n",
    "\n",
    "num_classes = len(img_dirs)\n",
    "\n",
    "wins = 0\n",
    "losses = 0\n",
    "\n",
    "update_estimators_every = 50\n",
    "\n",
    "with tf.Session(config=tf.ConfigProto(gpu_options=(tf.GPUOptions(per_process_gpu_memory_fraction=0.7)))) as sess:\n",
    "    vgg = vgg16.Vgg16()\n",
    "    \n",
    "    image_pl = tf.placeholder(\"float32\", [1, 224, 224, 3])\n",
    "    vgg.build(image_pl)\n",
    "    sess.run(tf.global_variables_initializer())\n",
    "        \n",
    "    batch = []\n",
    "    Game = namedtuple(\"Game\", [\"im_acts\", \"target_acts\", \"distractor_acts\", \"word_probs\", \"image_probs\", \"target\", \"word\", \"selection\", \"reward\"])\n",
    "    tot_reward = 0\n",
    "    for i in range(iterations):\n",
    "        \n",
    "        print(\"\\rEpisode {}/{}\".format(i, iterations), end=\"\")\n",
    "        sys.stdout.flush()\n",
    "        \n",
    "        if i % 10 == 0:\n",
    "            print('last 10 interations performance ', tot_reward)\n",
    "            tot_reward = 0\n",
    "                    \n",
    "        target_image, distractor_image = game.get_images()\n",
    "        target_class = game.target_class\n",
    "        target_acts = get_image_activations(sess, vgg, target_image, image_pl)\n",
    "        distractor_acts = get_image_activations(sess, vgg, distractor_image, image_pl)\n",
    "        \n",
    "        reordering = np.array([0,1])\n",
    "        random.shuffle(reordering)\n",
    "        target = np.where(reordering==0)[0]\n",
    "        \n",
    "        img_array = [target_acts, distractor_acts] \n",
    "        i1, i2 = [img_array[reordering[i]] for i, img in enumerate(img_array)]\n",
    "\n",
    "        shuffled_acts = np.concatenate([i1, i2], axis=1)\n",
    "        \n",
    "        ## for Sender - take action in reinforcement learning terms\n",
    "        \n",
    "        reward, word, selection, word_probs, image_probs = agents.show_images(sess, shuffled_acts, target_acts, distractor_acts, target, target_class)\n",
    "\n",
    "        batch.append(Game(shuffled_acts, target_acts, distractor_acts, word_probs, image_probs, target, word, selection, reward))\n",
    "        \n",
    "        if len(batch) > mini_batch_size:\n",
    "            batch.pop(0)\n",
    "\n",
    "        if (i+1) % mini_batch_size == 0:\n",
    "            print('updating the agent weights')\n",
    "            summary = agents.update(sess, batch)\n",
    "            writer.add_summary(summary, i)\n",
    "            \n",
    "        #reward, word_text = agents.test_sender(sess, shuffled_acts, target, target_class)\n",
    "        print(target_class, reward)\n",
    "        #reward = agents.test_receiver(sess, shuffled_acts, word, target_ind, target_class)\n",
    "        tot_reward += reward\n",
    "        selection = 0\n",
    "        #agents.call_trial(sess, img_array, target_ind)\n"
   ]
  },
  {
   "cell_type": "code",
   "execution_count": null,
   "metadata": {
    "collapsed": true
   },
   "outputs": [],
   "source": []
  }
 ],
 "metadata": {
  "anaconda-cloud": {},
  "kernelspec": {
   "display_name": "Python [conda env:py35]",
   "language": "python",
   "name": "conda-env-py35-py"
  },
  "language_info": {
   "codemirror_mode": {
    "name": "ipython",
    "version": 3
   },
   "file_extension": ".py",
   "mimetype": "text/x-python",
   "name": "python",
   "nbconvert_exporter": "python",
   "pygments_lexer": "ipython3",
   "version": "3.5.2"
  }
 },
 "nbformat": 4,
 "nbformat_minor": 1
}
