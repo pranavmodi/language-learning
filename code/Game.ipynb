{
 "cells": [
  {
   "cell_type": "code",
   "execution_count": 1,
   "metadata": {
    "collapsed": false
   },
   "outputs": [],
   "source": [
    "%matplotlib inline\n",
    "import os\n",
    "import numpy as np\n",
    "import agent\n",
    "import skimage\n",
    "import skimage.io\n",
    "import skimage.transform\n",
    "from matplotlib import pyplot as plt\n",
    "import random\n",
    "import tensorflow as tf\n",
    "\n",
    "data_dir = '/home/vagrant/ocm/language-learning/data'\n",
    "\n",
    "os.chdir('/home/vagrant/ocm/language-learning/code')"
   ]
  },
  {
   "cell_type": "code",
   "execution_count": 2,
   "metadata": {
    "collapsed": false
   },
   "outputs": [
    {
     "name": "stdout",
     "output_type": "stream",
     "text": [
      "['W0', 'W1']\n"
     ]
    }
   ],
   "source": [
    "num_words = 2\n",
    "vocab = ['W'+str(i) for i in range(num_words)]\n",
    "embed_dim = 2\n",
    "print(vocab)"
   ]
  },
  {
   "cell_type": "code",
   "execution_count": 3,
   "metadata": {
    "collapsed": false
   },
   "outputs": [
    {
     "name": "stdout",
     "output_type": "stream",
     "text": [
      "build model finished: 0s\n"
     ]
    }
   ],
   "source": [
    "sender = agent.SenderAgent(vocab)\n",
    "reciever = agent.RecieverAgent(vocab)"
   ]
  },
  {
   "cell_type": "code",
   "execution_count": 4,
   "metadata": {
    "collapsed": false
   },
   "outputs": [],
   "source": [
    "def load_image(path):\n",
    "    # load image\n",
    "    img = skimage.io.imread(path)\n",
    "    img = img / 255.0\n",
    "    assert (0 <= img).all() and (img <= 1.0).all()\n",
    "    # print \"Original Image Shape: \", img.shape\n",
    "    # we crop image from center\n",
    "    short_edge = min(img.shape[:2])\n",
    "    yy = int((img.shape[0] - short_edge) / 2)\n",
    "    xx = int((img.shape[1] - short_edge) / 2)\n",
    "    crop_img = img[yy: yy + short_edge, xx: xx + short_edge]\n",
    "    # resize to 224, 224\n",
    "    resized_img = skimage.transform.resize(crop_img, (224, 224))\n",
    "    return resized_img"
   ]
  },
  {
   "cell_type": "code",
   "execution_count": 5,
   "metadata": {
    "collapsed": false
   },
   "outputs": [
    {
     "data": {
      "text/plain": [
       "'/home/vagrant/ocm/language-learning/code'"
      ]
     },
     "execution_count": 5,
     "metadata": {},
     "output_type": "execute_result"
    }
   ],
   "source": [
    "#sender.show_images(target, distractor)\n",
    "\n",
    "iterations = 1000\n",
    "\n",
    "img_dirs = ['cat', 'dog']\n",
    "\n",
    "os.getcwd()"
   ]
  },
  {
   "cell_type": "code",
   "execution_count": 6,
   "metadata": {
    "collapsed": false
   },
   "outputs": [
    {
     "name": "stdout",
     "output_type": "stream",
     "text": [
      "<class 'numpy.ndarray'>\n",
      "[1 0] [1]\n",
      "got comm word:  hellothere\n",
      "<class 'numpy.ndarray'>\n",
      "[0 1] [0]\n",
      "got comm word:  hellothere\n",
      "<class 'numpy.ndarray'>\n",
      "[1 0] [1]\n",
      "got comm word:  hellothere\n",
      "<class 'numpy.ndarray'>\n",
      "[1 0] [1]\n",
      "got comm word:  hellothere\n",
      "<class 'numpy.ndarray'>\n",
      "[0 1] [0]\n",
      "got comm word:  hellothere\n",
      "<class 'numpy.ndarray'>\n",
      "[1 0] [1]\n",
      "got comm word:  hellothere\n",
      "<class 'numpy.ndarray'>\n",
      "[1 0] [1]\n",
      "got comm word:  hellothere\n",
      "<class 'numpy.ndarray'>\n",
      "[0 1] [0]\n",
      "got comm word:  hellothere\n",
      "<class 'numpy.ndarray'>\n",
      "[0 1] [0]\n",
      "got comm word:  hellothere\n",
      "<class 'numpy.ndarray'>\n",
      "[0 1] [0]\n",
      "got comm word:  hellothere\n",
      "5 5\n"
     ]
    }
   ],
   "source": [
    "## Run the iterations of the game\n",
    "iterations = 10\n",
    "num_classes = len(img_dirs)\n",
    "\n",
    "wins = 0\n",
    "losses = 0\n",
    "\n",
    "with tf.Session(config=tf.ConfigProto(gpu_options=(tf.GPUOptions(per_process_gpu_memory_fraction=0.7)))) as sess:\n",
    "    for i in range(iterations):\n",
    "        im1_class, im2_class = np.random.choice(list(range(num_classes)), 2, replace=False)\n",
    "        im1_dir, im2_dir = img_dirs[im1_class], img_dirs[im2_class]\n",
    "        im1_path, im2_path = os.path.join(data_dir, 'images', im1_dir), os.path.join(data_dir, 'images', im2_dir)\n",
    "        #print(im1_path, im2_path)\n",
    "\n",
    "            # select random image in dirs\n",
    "        im1_files, im2_files = os.listdir(im1_path), os.listdir(im2_path)\n",
    "        im1_files = [i for i in im1_files if i.endswith('.jpg')]\n",
    "        im2_files = [i for i in im2_files if i.endswith('.jpg')]\n",
    "\n",
    "        im1 = np.random.choice(len(im1_files), 1)[0]\n",
    "        im2 = np.random.choice(len(im2_files), 1)[0]\n",
    "\n",
    "        target_file = os.path.join(im1_path, im1_files[im1])\n",
    "        distractor_file = os.path.join(im2_path, im2_files[im2])\n",
    "\n",
    "        # Load selected image\n",
    "        target_image = load_image(target_file)\n",
    "        distractor_image = load_image(distractor_file)\n",
    "        comm_word = sender.show_images(sess, target_image, distractor_image)\n",
    "\n",
    "        reordering = np.array([0,1])\n",
    "        random.shuffle(reordering)\n",
    "        target_ind = np.where(reordering==0)[0]\n",
    "        print(reordering, target_ind)\n",
    "\n",
    "        img_array = [target_image, distractor_image]\n",
    "        i1, i2 = [img_array[reordering[i]] for i, img in enumerate(img_array)]\n",
    "        selection = reciever.show_images(sess, comm_word, i1, i2) \n",
    "\n",
    "        if target_ind == selection:\n",
    "            wins += 1\n",
    "        else:\n",
    "            losses += 1\n",
    "\n",
    "    print(wins, losses)\n",
    "    "
   ]
  },
  {
   "cell_type": "code",
   "execution_count": null,
   "metadata": {
    "collapsed": false
   },
   "outputs": [],
   "source": [
    "\n"
   ]
  }
 ],
 "metadata": {
  "anaconda-cloud": {},
  "kernelspec": {
   "display_name": "Python [conda env:py35]",
   "language": "python",
   "name": "conda-env-py35-py"
  },
  "language_info": {
   "codemirror_mode": {
    "name": "ipython",
    "version": 3
   },
   "file_extension": ".py",
   "mimetype": "text/x-python",
   "name": "python",
   "nbconvert_exporter": "python",
   "pygments_lexer": "ipython3",
   "version": "3.5.2"
  }
 },
 "nbformat": 4,
 "nbformat_minor": 1
}
