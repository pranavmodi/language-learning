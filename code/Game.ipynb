{
 "cells": [
  {
   "cell_type": "code",
   "execution_count": 1,
   "metadata": {
    "collapsed": false
   },
   "outputs": [],
   "source": [
    "%matplotlib inline\n",
    "import os\n",
    "import numpy as np\n",
    "import agent\n",
    "import env\n",
    "import skimage\n",
    "import skimage.io\n",
    "import skimage.transform\n",
    "from matplotlib import pyplot as plt\n",
    "import random\n",
    "import tensorflow as tf\n",
    "import sys\n",
    "sys.path.append('tensorflow-vgg/')\n",
    "import vgg16\n",
    "\n",
    "data_dir = '/home/vagrant/ocm/language-learning/data'\n",
    "\n",
    "os.chdir('/home/vagrant/ocm/language-learning/code')"
   ]
  },
  {
   "cell_type": "code",
   "execution_count": 2,
   "metadata": {
    "collapsed": false
   },
   "outputs": [
    {
     "name": "stdout",
     "output_type": "stream",
     "text": [
      "['W0', 'W1', 'W2', 'W3', 'W4']\n"
     ]
    }
   ],
   "source": [
    "num_words = 5\n",
    "vocab = ['W'+str(i) for i in range(num_words)]\n",
    "\n",
    "#vocab = ['Catword', 'Dogword']\n",
    "embed_dim = 2\n",
    "print(vocab)"
   ]
  },
  {
   "cell_type": "code",
   "execution_count": 3,
   "metadata": {
    "collapsed": false
   },
   "outputs": [
    {
     "name": "stdout",
     "output_type": "stream",
     "text": [
      "WARNING:tensorflow:From <ipython-input-3-519541e8469d>:3 in <module>.: SummaryWriter.__init__ (from tensorflow.python.training.summary_io) is deprecated and will be removed after 2016-11-30.\n",
      "Instructions for updating:\n",
      "Please switch to tf.summary.FileWriter. The interface and behavior is the same; this is just a rename.\n",
      "../logs\n"
     ]
    }
   ],
   "source": [
    "logs_path = os.path.join('..','logs')\n",
    "\n",
    "writer = tf.train.SummaryWriter(logs_path, graph=tf.get_default_graph())\n",
    "print(logs_path)"
   ]
  },
  {
   "cell_type": "code",
   "execution_count": 4,
   "metadata": {
    "collapsed": false
   },
   "outputs": [],
   "source": [
    "def load_image(path):\n",
    "    # load image\n",
    "    img = skimage.io.imread(path)\n",
    "    img = img / 255.0\n",
    "    assert (0 <= img).all() and (img <= 1.0).all()\n",
    "    # print \"Original Image Shape: \", img.shape\n",
    "    # we crop image from center\n",
    "    short_edge = min(img.shape[:2])\n",
    "    yy = int((img.shape[0] - short_edge) / 2)\n",
    "    xx = int((img.shape[1] - short_edge) / 2)\n",
    "    crop_img = img[yy: yy + short_edge, xx: xx + short_edge]\n",
    "    # resize to 224, 224\n",
    "    resized_img = skimage.transform.resize(crop_img, (224, 224))\n",
    "    return resized_img.astype(np.float32)"
   ]
  },
  {
   "cell_type": "code",
   "execution_count": 5,
   "metadata": {
    "collapsed": false
   },
   "outputs": [
    {
     "data": {
      "text/plain": [
       "'/home/vagrant/ocm/language-learning/code'"
      ]
     },
     "execution_count": 5,
     "metadata": {},
     "output_type": "execute_result"
    }
   ],
   "source": [
    "#sender.show_images(target, distractor)\n",
    "\n",
    "iterations = 1000\n",
    "\n",
    "img_dirs = ['cat', 'dog']\n",
    "\n",
    "os.getcwd()"
   ]
  },
  {
   "cell_type": "code",
   "execution_count": 6,
   "metadata": {
    "collapsed": false
   },
   "outputs": [],
   "source": [
    "def get_image_activations(sess, vgg, image, placeholder):\n",
    "    #image_pl = tf.placeholder(\"float32\", [1, 224, 224, 3])\n",
    "    batch = image.reshape((1, 224, 224, 3))\n",
    "    feed_dict = {placeholder: batch}\n",
    "    \n",
    "    with tf.name_scope(\"content_vgg\"):\n",
    "        fc8 = sess.run(vgg.fc8, feed_dict=feed_dict)\n",
    "    \n",
    "    return(fc8)\n"
   ]
  },
  {
   "cell_type": "code",
   "execution_count": 7,
   "metadata": {
    "collapsed": true
   },
   "outputs": [],
   "source": [
    "def make_epsilon_greedy_policy(estimator, nA):\n",
    "    \"\"\"\n",
    "    Creates an epsilon-greedy policy based on a given Q-function approximator and epsilon.\n",
    "\n",
    "    Args:\n",
    "        estimator: An estimator that returns q values for a given state\n",
    "        nA: Number of actions in the environment.\n",
    "\n",
    "    Returns:\n",
    "        A function that takes the (sess, observation, epsilon) as an argument and returns\n",
    "        the probabilities for each action in the form of a numpy array of length nA.\n",
    "\n",
    "    \"\"\"\n",
    "    def policy_fn(sess, observation, epsilon):\n",
    "        A = np.ones(nA, dtype=float) * epsilon / nA\n",
    "        q_values = estimator.predict(sess, np.expand_dims(observation, 0))[0]\n",
    "        best_action = np.argmax(q_values)\n",
    "        A[best_action] += (1.0 - epsilon)\n",
    "        return A\n",
    "    return policy_fn"
   ]
  },
  {
   "cell_type": "code",
   "execution_count": null,
   "metadata": {
    "collapsed": false
   },
   "outputs": [],
   "source": [
    "def shuffle_image_activations(im_acts):\n",
    "    reordering = np.array(range(len(im_acts)))    \n",
    "    random.shuffle(reordering)\n",
    "    target_ind = np.argmin(reordering)\n",
    "    shuffled = im_acts[reordering]\n",
    "    return (shuffled, target_ind)    "
   ]
  },
  {
   "cell_type": "code",
   "execution_count": null,
   "metadata": {
    "collapsed": false
   },
   "outputs": [
    {
     "name": "stdout",
     "output_type": "stream",
     "text": [
      "now building the learning graph\n"
     ]
    },
    {
     "name": "stderr",
     "output_type": "stream",
     "text": [
      "/home/vagrant/anaconda2/envs/py35/lib/python3.5/site-packages/tensorflow/python/ops/gradients_impl.py:91: UserWarning: Converting sparse IndexedSlices to a dense Tensor of unknown shape. This may consume a large amount of memory.\n",
      "  \"Converting sparse IndexedSlices to a dense Tensor of unknown shape. \"\n"
     ]
    },
    {
     "name": "stdout",
     "output_type": "stream",
     "text": [
      "finished building the learning graph\n",
      "build model finished: 0s\n",
      "Initializing replay memory...\n",
      "Replay memory initialized (not yet)\n",
      "Episode 0/2000last 10 interations performance  0\n",
      "word probs [ 0.19466257  0.18825248  0.20429839  0.21021271  0.20257379]\n",
      "Image probs [ 0.49997532  0.50002468]\n",
      "dog -1.0\n",
      "Episode 1/2000word probs [ 0.21606405  0.20424818  0.20726769  0.15842408  0.21399605]\n",
      "Image probs [ 0.49914402  0.50085598]\n",
      "dog -1.0\n",
      "Episode 2/2000word probs [ 0.19357899  0.21357612  0.21673532  0.15248351  0.22362608]\n",
      "Image probs [ 0.49933758  0.50066245]\n",
      "cat 1.0\n",
      "Episode 3/2000word probs [ 0.17955784  0.23250073  0.21300757  0.15159273  0.22334102]\n",
      "Image probs [ 0.4713611   0.52863896]\n",
      "cat 1.0\n",
      "Episode 4/2000word probs [ 0.17003955  0.24366261  0.20913896  0.1580355   0.21912332]\n",
      "Image probs [ 0.49825186  0.50174809]\n",
      "dog -1.0\n",
      "Episode 5/2000word probs [ 0.1636567   0.25576758  0.21042839  0.16375461  0.20639285]\n",
      "Image probs [ 0.47134909  0.52865088]\n",
      "dog 1.0\n",
      "Episode 6/2000word probs [ 0.17075557  0.25839806  0.20392948  0.17343843  0.19347842]\n",
      "Image probs [ 0.46116289  0.53883708]\n",
      "dog -1.0\n",
      "Episode 7/2000word probs [ 0.17677668  0.24817979  0.20385091  0.18543091  0.18576172]\n",
      "Image probs [ 0.41756368  0.58243626]\n",
      "cat -1.0\n",
      "Episode 8/2000word probs [ 0.16864058  0.25974673  0.21216767  0.17817146  0.18127362]\n",
      "Image probs [ 0.45548144  0.54451847]\n",
      "dog -1.0\n",
      "Episode 9/2000word probs [ 0.17283088  0.2473629   0.21227919  0.18884505  0.17868197]\n",
      "Image probs [ 0.57267433  0.42732567]\n",
      "cat 1.0\n",
      "Episode 10/2000last 10 interations performance  -2.0\n",
      "word probs [ 0.17557617  0.24680553  0.21474388  0.18713231  0.1757421 ]\n",
      "Image probs [ 0.50825506  0.49174485]\n",
      "cat -1.0\n",
      "Episode 11/2000word probs [ 0.17401046  0.25590232  0.22657605  0.17206314  0.17144796]\n",
      "Image probs [ 0.51371664  0.48628336]\n",
      "dog 1.0\n",
      "Episode 12/2000word probs [ 0.18081445  0.24136667  0.22082153  0.18509288  0.17190441]\n",
      "Image probs [ 0.50550991  0.49449018]\n",
      "dog 1.0\n",
      "Episode 13/2000word probs [ 0.18238221  0.24054228  0.21992397  0.18808587  0.16906568]\n",
      "Image probs [ 0.51296693  0.48703304]\n",
      "dog 1.0\n",
      "Episode 14/2000word probs [ 0.18319678  0.24408405  0.21694246  0.19011286  0.1656639 ]\n",
      "Image probs [ 0.5192892   0.48071074]\n",
      "cat -1.0\n",
      "Episode 15/2000word probs [ 0.18430994  0.24806894  0.2162122   0.1880599   0.16334906]\n",
      "Image probs [ 0.50442362  0.49557635]\n",
      "cat 1.0\n",
      "Episode 16/2000word probs [ 0.18408187  0.24975595  0.22122069  0.18501207  0.15992938]\n",
      "Image probs [ 0.53305906  0.46694094]\n",
      "dog -1.0\n",
      "Episode 17/2000word probs [ 0.18425141  0.25206968  0.22700585  0.17916125  0.15751179]\n",
      "Image probs [ 0.48948345  0.51051658]\n",
      "cat 1.0\n",
      "Episode 18/2000word probs [ 0.18363978  0.25282785  0.23049757  0.17342284  0.15961191]\n",
      "Image probs [ 0.48175076  0.51824927]\n",
      "dog -1.0\n",
      "Episode 19/2000word probs [ 0.18424462  0.25540215  0.22840813  0.16932195  0.16262317]\n",
      "Image probs [ 0.58662242  0.41337752]\n",
      "cat -1.0\n",
      "Episode 20/2000last 10 interations performance  0.0\n",
      "word probs [ 0.18548673  0.25901359  0.22791497  0.16617055  0.16141418]\n",
      "Image probs [ 0.50912201  0.49087802]\n",
      "cat -1.0\n",
      "Episode 21/2000word probs [ 0.18758719  0.26399225  0.22323774  0.16405858  0.16112426]\n",
      "Image probs [ 0.52720267  0.47279739]\n",
      "cat 1.0\n",
      "Episode 22/2000word probs [ 0.18848655  0.26678145  0.22323428  0.16145806  0.16003962]\n",
      "Image probs [ 0.71107239  0.28892758]\n",
      "cat -1.0\n",
      "Episode 23/2000"
     ]
    }
   ],
   "source": [
    "tf.reset_default_graph()\n",
    "\n",
    "agents = agent.Agents(vocab, image_embedding_dim = 10, embedding_dim = 10, temperature=10)\n",
    "game = env.Environment(data_dir, img_dirs, 2)\n",
    "\n",
    "## Run the iterations of the game\n",
    "iterations = 2000\n",
    "num_classes = len(img_dirs)\n",
    "\n",
    "replay_memory_size = 50\n",
    "sender_replay_memory = []\n",
    "reciever_replay_memory = []\n",
    "replay_memory = []\n",
    "init_replay_size = 20\n",
    "\n",
    "wins = 0\n",
    "losses = 0\n",
    "\n",
    "update_estimators_every = 50\n",
    "\n",
    "with tf.Session(config=tf.ConfigProto(gpu_options=(tf.GPUOptions(per_process_gpu_memory_fraction=0.7)))) as sess:\n",
    "    vgg = vgg16.Vgg16()\n",
    "    \n",
    "    image_pl = tf.placeholder(\"float32\", [1, 224, 224, 3])\n",
    "    vgg.build(image_pl)\n",
    "    sess.run(tf.global_variables_initializer())\n",
    "    \n",
    "    print('Initializing replay memory...')\n",
    "    for n in range(init_replay_size):\n",
    "        ## Sender replay\n",
    "        continue\n",
    "        t,d = game.get_images()\n",
    "        ta = get_image_activations(sess, vgg, t, image_pl)\n",
    "        da = get_image_activations(sess, vgg, d, image_pl)        \n",
    "        cw = sender.show_images(sess, ta, da)\n",
    "        im_acts = np.array([ta, da])\n",
    "        shuffled, target_ind = shuffle_image_activations(im_acts)\n",
    "        selected = reciever.show_images(sess, cw, shuffled[0], shuffled[1])\n",
    "        score = 0\n",
    "        if selected==target_ind:\n",
    "            score = 1\n",
    "        replay_memory.append((ta, da, cw, score))\n",
    "    \n",
    "    print('Replay memory initialized (not yet)')\n",
    "        \n",
    "    \n",
    "    tot_reward = 0\n",
    "    for i in range(iterations):\n",
    "        \n",
    "        print(\"\\rEpisode {}/{}\".format(i, iterations), end=\"\")\n",
    "        sys.stdout.flush()\n",
    "        \n",
    "        if i % 10 == 0:\n",
    "            print('last 10 interations performance ', tot_reward)\n",
    "            tot_reward = 0\n",
    "                    \n",
    "        target_image, distractor_image = game.get_images()\n",
    "        target_class = game.target_class\n",
    "        #print('the target class is ', target_class)\n",
    "        target_acts = get_image_activations(sess, vgg, target_image, image_pl)\n",
    "        distractor_acts = get_image_activations(sess, vgg, distractor_image, image_pl)\n",
    "        \n",
    "        reordering = np.array([0,1])\n",
    "        random.shuffle(reordering)\n",
    "        target = np.where(reordering==0)[0]\n",
    "        \n",
    "        img_array = [target_acts, distractor_acts] \n",
    "        i1, i2 = [img_array[reordering[i]] for i, img in enumerate(img_array)]\n",
    "\n",
    "        shuffled_acts = np.concatenate([i1, i2], axis=0)\n",
    "        \n",
    "        ## for Sender - take action in reinforcement learning terms\n",
    "        \n",
    "        reward, word_text = agents.show_images(sess, shuffled_acts, target, target_class)\n",
    "        \n",
    "        #word = 0\n",
    "        #if target_class=='dog':\n",
    "        #    word = 1\n",
    "        \n",
    "        #reward, word_text = agents.test_sender(sess, shuffled_acts, target, target_class)\n",
    "        \n",
    "        print(target_class, reward)\n",
    "        #reward = agents.test_receiver(sess, shuffled_acts, word, target_ind, target_class)\n",
    "        tot_reward += reward\n",
    "        selection = 0\n",
    "        #agents.call_trial(sess, img_array, target_ind)\n",
    "\n",
    "        if target == selection:\n",
    "            wins += 1\n",
    "        else:\n",
    "            losses += 1\n",
    "\n",
    "    print(wins, losses)    "
   ]
  },
  {
   "cell_type": "code",
   "execution_count": null,
   "metadata": {
    "collapsed": false
   },
   "outputs": [],
   "source": [
    "tf.__version__"
   ]
  }
 ],
 "metadata": {
  "anaconda-cloud": {},
  "kernelspec": {
   "display_name": "Python [conda env:py35]",
   "language": "python",
   "name": "conda-env-py35-py"
  },
  "language_info": {
   "codemirror_mode": {
    "name": "ipython",
    "version": 3
   },
   "file_extension": ".py",
   "mimetype": "text/x-python",
   "name": "python",
   "nbconvert_exporter": "python",
   "pygments_lexer": "ipython3",
   "version": "3.5.2"
  }
 },
 "nbformat": 4,
 "nbformat_minor": 1
}
