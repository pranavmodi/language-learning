{
 "cells": [
  {
   "cell_type": "code",
   "execution_count": 19,
   "metadata": {
    "collapsed": true
   },
   "outputs": [],
   "source": [
    "import numpy as np\n",
    "import pandas as pd\n",
    "import tensorflow as tf\n",
    "import matplotlib\n",
    "from urllib import request\n",
    "import requests"
   ]
  },
  {
   "cell_type": "code",
   "execution_count": 20,
   "metadata": {
    "collapsed": false
   },
   "outputs": [],
   "source": [
    "import os\n",
    "os.chdir('/home/vagrant/ocm/language-learning')"
   ]
  },
  {
   "cell_type": "code",
   "execution_count": 21,
   "metadata": {
    "collapsed": false
   },
   "outputs": [],
   "source": [
    "classes = ['dog', 'cat']"
   ]
  },
  {
   "cell_type": "code",
   "execution_count": 24,
   "metadata": {
    "collapsed": true
   },
   "outputs": [],
   "source": [
    "def download_file(url, dst, params={}, debug=True):\n",
    "    if debug:\n",
    "        print(\"downloading {0}...\".format(dst)),\n",
    "    response = requests.get(url, params=params)\n",
    "    content_type = response.headers[\"content-type\"]\n",
    "    if content_type.startswith(\"text\"):\n",
    "        return 0\n",
    "    with open(dst, \"wb\") as fp:\n",
    "        fp.write(response.content)\n",
    "    return 1"
   ]
  },
  {
   "cell_type": "code",
   "execution_count": 29,
   "metadata": {
    "collapsed": false
   },
   "outputs": [
    {
     "name": "stdout",
     "output_type": "stream",
     "text": [
      "data/cat/urls.txt\n",
      "downloading data/cat/0.jpg...\n",
      "downloading data/cat/1.jpg...\n",
      "downloading data/cat/2.jpg...\n",
      "downloading data/cat/3.jpg...\n",
      "downloading data/cat/4.jpg...\n",
      "downloading data/cat/5.jpg...\n",
      "downloading data/cat/6.jpg...\n",
      "downloading data/cat/7.jpg...\n",
      "downloading data/cat/8.jpg...\n",
      "downloading data/cat/9.jpg...\n",
      "downloading data/cat/10.jpg...\n",
      "downloading data/cat/11.jpg...\n",
      "downloading data/cat/12.jpg...\n",
      "downloading data/cat/13.jpg...\n",
      "downloading data/cat/14.jpg...\n"
     ]
    }
   ],
   "source": [
    "classes = ['cat']\n",
    "for c in classes:\n",
    "    urls_path = os.path.join('data', c, 'urls.txt')\n",
    "    print(urls_path)\n",
    "    with open(urls_path, \"r\", encoding='utf-8', errors='ignore') as f:\n",
    "        urls = f.readlines()\n",
    "        saved = 0\n",
    "        i = 0\n",
    "        while saved < 15:\n",
    "            url = urls[i]\n",
    "            dst = os.path.join('data', c, str(saved) + '.jpg')\n",
    "            saved += download_file(url, dst)\n",
    "            i += 1\n"
   ]
  },
  {
   "cell_type": "code",
   "execution_count": null,
   "metadata": {
    "collapsed": false
   },
   "outputs": [],
   "source": []
  }
 ],
 "metadata": {
  "anaconda-cloud": {},
  "kernelspec": {
   "display_name": "Python [conda env:py35]",
   "language": "python",
   "name": "conda-env-py35-py"
  },
  "language_info": {
   "codemirror_mode": {
    "name": "ipython",
    "version": 3
   },
   "file_extension": ".py",
   "mimetype": "text/x-python",
   "name": "python",
   "nbconvert_exporter": "python",
   "pygments_lexer": "ipython3",
   "version": "3.5.2"
  }
 },
 "nbformat": 4,
 "nbformat_minor": 1
}
